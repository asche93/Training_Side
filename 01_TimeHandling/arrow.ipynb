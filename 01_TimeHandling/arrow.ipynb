{
 "cells": [
  {
   "cell_type": "markdown",
   "metadata": {},
   "source": [
    "## Get familiar with python package arrow\n",
    "\n",
    "https://arrow.readthedocs.io/en/latest/guide.html\n",
    "\n",
    "\n",
    "Feature\t| NumPy datetime64\t| Arrow\n",
    "\n",
    "Fokus |\tHochperformante Zeitarrays\t| Benutzerfreundliche Zeitbearbeitung\n",
    "\n",
    "Zeitzonen-Support |\t❌ (nur indirekt über Pandas) |\t✅ Ja (nativ integriert)\n",
    "\n",
    "Parsing von Strings\t| ❌ Nein (nur np.datetime64('2025-03-01')) |\t✅ Ja (arrow.get(\"3rd March 2025\"))\n",
    "\n",
    "Einfache Zeit-Operationen |\t✅ Ja ( datetime64 - datetime64 ) |\t✅ Ja (arrow.shift(days=1))\n",
    "\n",
    "Performance mit großen Daten |\t🚀 Sehr schnell\t | 🐢 Langsamer als NumPy\n",
    "\n",
    "Flexibilität bei Zeitformaten |\t❌ Eingeschränkt |\t✅ Hochflexibel\n",
    "\n",
    "\n",
    "#### Why use Arrow over built-in modules?\n",
    "Python’s standard library and some other low-level modules have near-complete date, time and timezone functionality, but don’t work very well from a usability perspective:\n",
    "\n",
    "\n",
    "-Too many modules: datetime, time, calendar, dateutil, pytz and more\n",
    "\n",
    "-Too many types: date, time, datetime, tzinfo, timedelta, relativedelta, etc.-\n",
    "\n",
    "-Timezones and timestamp conversions are verbose and unpleasant-\n",
    "\n",
    "-Timezone naivety is the norm-\n",
    "\n",
    "-Gaps in functionality: ISO 8601 parsing, timespans, humanization\n",
    "\n",
    "#### Features\n",
    "\n",
    "-Fully-implemented, drop-in replacement for datetime\n",
    "\n",
    "-Support for Python 3.8+-\n",
    "\n",
    "-Timezone-aware and UTC by default-\n",
    "\n",
    "-Super-simple creation options for many common input scenarios-\n",
    "\n",
    "-shift method with support for relative offsets, including weeks-\n",
    "\n",
    "-Format and parse strings automatically-\n",
    "\n",
    "-Wide support for the ISO 8601 standard-\n",
    "\n",
    "-Timezone conversion-\n",
    "\n",
    "-Support for dateutil, pytz, and ZoneInfo tzinfo objects-\n",
    "\n",
    "-Generates time spans, ranges, floors and ceilings for time frames ranging from microsecond to year-\n",
    "\n",
    "-Humanize dates and times with a growing list of contributed locales-\n",
    "\n",
    "-Extensible for your own Arrow-derived types-\n",
    "\n",
    "-Full support for PEP 484-style type hints\n",
    "\n"
   ]
  },
  {
   "cell_type": "code",
   "execution_count": null,
   "metadata": {},
   "outputs": [],
   "source": [
    "import arrow\n",
    "arrow.get('2000-06-08T18:01:15')"
   ]
  },
  {
   "cell_type": "code",
   "execution_count": null,
   "metadata": {},
   "outputs": [],
   "source": [
    "utc = arrow.utcnow()\n",
    "utc"
   ]
  },
  {
   "cell_type": "code",
   "execution_count": null,
   "metadata": {},
   "outputs": [],
   "source": [
    "utc = utc.shift(hours=1)\n",
    "utc"
   ]
  },
  {
   "cell_type": "code",
   "execution_count": null,
   "metadata": {},
   "outputs": [],
   "source": [
    "local = utc.to('US/Pacific')\n",
    "local"
   ]
  },
  {
   "cell_type": "code",
   "execution_count": null,
   "metadata": {},
   "outputs": [],
   "source": [
    "local.timestamp()"
   ]
  },
  {
   "cell_type": "code",
   "execution_count": null,
   "metadata": {},
   "outputs": [],
   "source": [
    "local.format(\"YYYY-MM-DD HH:mm:ss ZZ\")"
   ]
  },
  {
   "cell_type": "code",
   "execution_count": null,
   "metadata": {},
   "outputs": [],
   "source": [
    "local.format()"
   ]
  },
  {
   "cell_type": "code",
   "execution_count": null,
   "metadata": {},
   "outputs": [],
   "source": [
    "local.humanize()"
   ]
  },
  {
   "cell_type": "markdown",
   "metadata": {},
   "source": [
    "## User's Guide"
   ]
  },
  {
   "cell_type": "code",
   "execution_count": null,
   "metadata": {},
   "outputs": [],
   "source": [
    "print(arrow.utcnow())\n",
    "\n",
    "print(arrow.now())\n",
    "\n",
    "print(arrow.now('Europe/Berlin'))"
   ]
  },
  {
   "cell_type": "code",
   "execution_count": null,
   "metadata": {},
   "outputs": [],
   "source": [
    "print(arrow.get(1367900664))\n",
    "print(arrow.get(1367900664.152325))"
   ]
  },
  {
   "cell_type": "code",
   "execution_count": null,
   "metadata": {},
   "outputs": [],
   "source": [
    "import datetime\n",
    "print(\"use timezone naive:\", arrow.get(datetime.datetime.now(datetime.UTC)))\n",
    "print(\"use timezone aware:\", arrow.get(datetime.datetime(2012, 7, 7), 'Europe/Paris'))"
   ]
  },
  {
   "cell_type": "code",
   "execution_count": null,
   "metadata": {},
   "outputs": [],
   "source": [
    "from dateutil import tz\n",
    "print(arrow.get(datetime.datetime(2012,7,7), tz.gettz('Europe/Paris')))\n",
    "print(arrow.get(datetime.datetime.now(tz.gettz('Europe/Paris'))))"
   ]
  },
  {
   "cell_type": "code",
   "execution_count": null,
   "metadata": {},
   "outputs": [],
   "source": [
    "# Parse from a string:\n",
    "arrow.get('22-06-08 12:40:15', 'YY-MM-DD HH:mm:ss')"
   ]
  },
  {
   "cell_type": "code",
   "execution_count": null,
   "metadata": {},
   "outputs": [],
   "source": [
    "# Search a date in a string\n",
    "# MMMM full month name like May\n",
    "# YYYY 4 digits year\n",
    "arrow.get('June was born in May 1967 03', 'MMMM YYYY DD') "
   ]
  },
  {
   "cell_type": "code",
   "execution_count": null,
   "metadata": {},
   "outputs": [],
   "source": [
    "arrow.get('2013-09-30T15:34:00.000-07:00')"
   ]
  },
  {
   "cell_type": "code",
   "execution_count": null,
   "metadata": {},
   "outputs": [],
   "source": [
    "# initialize directly like datetime object\n",
    "arrow.get(2010,5,7)"
   ]
  },
  {
   "cell_type": "markdown",
   "metadata": {},
   "source": [
    "Get a naive datetime, and tzinfo:"
   ]
  },
  {
   "cell_type": "code",
   "execution_count": null,
   "metadata": {},
   "outputs": [],
   "source": [
    "a = arrow.utcnow()\n",
    "a.datetime"
   ]
  },
  {
   "cell_type": "code",
   "execution_count": null,
   "metadata": {},
   "outputs": [],
   "source": [
    "a.naive"
   ]
  },
  {
   "cell_type": "code",
   "execution_count": null,
   "metadata": {},
   "outputs": [],
   "source": [
    "a.tzinfo"
   ]
  },
  {
   "cell_type": "code",
   "execution_count": null,
   "metadata": {},
   "outputs": [],
   "source": [
    "print(a.year)\n",
    "print(a.date())\n",
    "print(a.time())"
   ]
  },
  {
   "cell_type": "code",
   "execution_count": null,
   "metadata": {},
   "outputs": [],
   "source": [
    "arw = arrow.utcnow()\n",
    "print(arw)\n",
    "print(arw.replace(hour=2, minute=5))"
   ]
  },
  {
   "cell_type": "code",
   "execution_count": null,
   "metadata": {},
   "outputs": [],
   "source": [
    "arw.shift(weeks=+3)"
   ]
  },
  {
   "cell_type": "code",
   "execution_count": null,
   "metadata": {},
   "outputs": [],
   "source": [
    "arw.replace(tzinfo='US/Pacific')"
   ]
  },
  {
   "cell_type": "code",
   "execution_count": null,
   "metadata": {},
   "outputs": [],
   "source": [
    "# Format\n",
    "arrow.utcnow().format('DD-MM-YYYYTHH:mm:ss/ZZ')"
   ]
  },
  {
   "cell_type": "code",
   "execution_count": null,
   "metadata": {},
   "outputs": [],
   "source": [
    "# Convert fro mUTC tother timezone\n",
    "utc = arrow.utcnow()\n",
    "utc"
   ]
  },
  {
   "cell_type": "code",
   "execution_count": null,
   "metadata": {},
   "outputs": [],
   "source": [
    "utc.to('US/Pacific')"
   ]
  },
  {
   "cell_type": "code",
   "execution_count": null,
   "metadata": {},
   "outputs": [],
   "source": [
    "# Using shortcut\n",
    "utc.to('local')"
   ]
  },
  {
   "cell_type": "markdown",
   "metadata": {},
   "source": [
    "#### Range and span"
   ]
  },
  {
   "cell_type": "code",
   "execution_count": null,
   "metadata": {},
   "outputs": [],
   "source": [
    "arrow.utcnow().span('hour')"
   ]
  },
  {
   "cell_type": "code",
   "execution_count": null,
   "metadata": {},
   "outputs": [],
   "source": [
    "print(arrow.utcnow().floor('hour'))\n",
    "print(arrow.utcnow().ceil('hour'))"
   ]
  },
  {
   "cell_type": "code",
   "execution_count": null,
   "metadata": {},
   "outputs": [],
   "source": [
    "# Range of time spans\n",
    "start = datetime.datetime(2013,5,5,10,10)\n",
    "end = datetime.datetime(2013,5,10,12,10)\n",
    "for r in arrow.Arrow.span_range('day', start, end):\n",
    "    print(r)"
   ]
  },
  {
   "cell_type": "code",
   "execution_count": null,
   "metadata": {},
   "outputs": [],
   "source": [
    "# Range of time spans\n",
    "start = datetime.datetime(2013,5,5)\n",
    "end = datetime.datetime(2013,5,10)\n",
    "for r in arrow.Arrow.range('day', start, end):\n",
    "    print(r)"
   ]
  },
  {
   "cell_type": "code",
   "execution_count": null,
   "metadata": {},
   "outputs": [],
   "source": [
    "# more elegant\n",
    "date_list = list(arrow.Arrow.range('day', start, end))\n",
    "print(date_list)"
   ]
  }
 ],
 "metadata": {
  "kernelspec": {
   "display_name": "p312",
   "language": "python",
   "name": "python3"
  },
  "language_info": {
   "codemirror_mode": {
    "name": "ipython",
    "version": 3
   },
   "file_extension": ".py",
   "mimetype": "text/x-python",
   "name": "python",
   "nbconvert_exporter": "python",
   "pygments_lexer": "ipython3",
   "version": "3.12.9"
  }
 },
 "nbformat": 4,
 "nbformat_minor": 2
}
